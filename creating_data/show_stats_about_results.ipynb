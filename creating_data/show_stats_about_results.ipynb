{
 "cells": [
  {
   "cell_type": "code",
   "execution_count": 619,
   "metadata": {},
   "outputs": [],
   "source": [
    "import pandas as pd\n",
    "import zipfile\n",
    "from pathlib import Path\n",
    "import json\n",
    "pd.set_option('display.max_rows', 50)\n",
    "pd.options.display.float_format = '{:,.2f}'.format"
   ]
  },
  {
   "cell_type": "code",
   "execution_count": 620,
   "metadata": {},
   "outputs": [],
   "source": [
    "root_dir = Path(r'C:\\Users\\97254\\PycharmProjects\\nlp_project_results\\dev_dataset\\train_on_80_percent_of_group_names')"
   ]
  },
  {
   "cell_type": "code",
   "execution_count": 621,
   "metadata": {},
   "outputs": [],
   "source": [
    "EVAL_RESULTS_ZIP = root_dir /'cyber_attrs_eval_by_model_df.zip'\n",
    "EVAL_GT_ZIP = root_dir /'cyber_attrs_eval_df.zip'\n",
    "\n",
    "METRICS_JSON = root_dir /'metrics.json'"
   ]
  },
  {
   "cell_type": "code",
   "execution_count": 622,
   "metadata": {},
   "outputs": [],
   "source": [
    "def extract_zip(zip_path):\n",
    "    with zipfile.ZipFile(zip_path, 'r') as zip_ref:\n",
    "        zip_ref.extractall(zip_path.parent)\n",
    "    return zip_path.with_suffix('.csv')"
   ]
  },
  {
   "cell_type": "code",
   "execution_count": 623,
   "metadata": {},
   "outputs": [],
   "source": [
    "EVAL_RESULTS_CSV = extract_zip(EVAL_RESULTS_ZIP)\n",
    "EVAL_GT_CSV = extract_zip(EVAL_GT_ZIP)"
   ]
  },
  {
   "cell_type": "code",
   "execution_count": 624,
   "metadata": {},
   "outputs": [
    {
     "data": {
      "text/plain": [
       "WindowsPath('C:/Users/97254/PycharmProjects/nlp_project_results/dev_dataset/train_on_80_percent_of_group_names/cyber_attrs_eval_by_model_df.csv')"
      ]
     },
     "execution_count": 624,
     "metadata": {},
     "output_type": "execute_result"
    }
   ],
   "source": [
    "EVAL_RESULTS_CSV"
   ]
  },
  {
   "cell_type": "code",
   "execution_count": 625,
   "metadata": {},
   "outputs": [
    {
     "data": {
      "text/plain": [
       "WindowsPath('C:/Users/97254/PycharmProjects/nlp_project_results/dev_dataset/train_on_80_percent_of_group_names/cyber_attrs_eval_df.csv')"
      ]
     },
     "execution_count": 625,
     "metadata": {},
     "output_type": "execute_result"
    }
   ],
   "source": [
    "EVAL_GT_CSV"
   ]
  },
  {
   "cell_type": "code",
   "execution_count": 626,
   "metadata": {},
   "outputs": [
    {
     "name": "stdout",
     "output_type": "stream",
     "text": [
      "(3386, 5)\n"
     ]
    },
    {
     "data": {
      "text/html": [
       "<div>\n",
       "<style scoped>\n",
       "    .dataframe tbody tr th:only-of-type {\n",
       "        vertical-align: middle;\n",
       "    }\n",
       "\n",
       "    .dataframe tbody tr th {\n",
       "        vertical-align: top;\n",
       "    }\n",
       "\n",
       "    .dataframe thead th {\n",
       "        text-align: right;\n",
       "    }\n",
       "</style>\n",
       "<table border=\"1\" class=\"dataframe\">\n",
       "  <thead>\n",
       "    <tr style=\"text-align: right;\">\n",
       "      <th></th>\n",
       "      <th>Unnamed: 0</th>\n",
       "      <th>git_repo</th>\n",
       "      <th>year</th>\n",
       "      <th>filename</th>\n",
       "      <th>group_name</th>\n",
       "    </tr>\n",
       "  </thead>\n",
       "  <tbody>\n",
       "    <tr>\n",
       "      <th>0</th>\n",
       "      <td>0</td>\n",
       "      <td>APT_CyberCriminal_Campagin_Collections</td>\n",
       "      <td>2018</td>\n",
       "      <td>hidden-cobra-targets-turkish-financial-sector-...</td>\n",
       "      <td>[]</td>\n",
       "    </tr>\n",
       "    <tr>\n",
       "      <th>1</th>\n",
       "      <td>1</td>\n",
       "      <td>APT_CyberCriminal_Campagin_Collections</td>\n",
       "      <td>2018</td>\n",
       "      <td>hidden-cobra-targets-turkish-financial-sector-...</td>\n",
       "      <td>[]</td>\n",
       "    </tr>\n",
       "    <tr>\n",
       "      <th>2</th>\n",
       "      <td>2</td>\n",
       "      <td>APT_CyberCriminal_Campagin_Collections</td>\n",
       "      <td>2018</td>\n",
       "      <td>hidden-cobra-targets-turkish-financial-sector-...</td>\n",
       "      <td>[]</td>\n",
       "    </tr>\n",
       "    <tr>\n",
       "      <th>3</th>\n",
       "      <td>3</td>\n",
       "      <td>APT_CyberCriminal_Campagin_Collections</td>\n",
       "      <td>2018</td>\n",
       "      <td>hidden-cobra-targets-turkish-financial-sector-...</td>\n",
       "      <td>[]</td>\n",
       "    </tr>\n",
       "    <tr>\n",
       "      <th>4</th>\n",
       "      <td>4</td>\n",
       "      <td>APT_CyberCriminal_Campagin_Collections</td>\n",
       "      <td>2018</td>\n",
       "      <td>hidden-cobra-targets-turkish-financial-sector-...</td>\n",
       "      <td>[]</td>\n",
       "    </tr>\n",
       "  </tbody>\n",
       "</table>\n",
       "</div>"
      ],
      "text/plain": [
       "   Unnamed: 0                                git_repo  year  \\\n",
       "0           0  APT_CyberCriminal_Campagin_Collections  2018   \n",
       "1           1  APT_CyberCriminal_Campagin_Collections  2018   \n",
       "2           2  APT_CyberCriminal_Campagin_Collections  2018   \n",
       "3           3  APT_CyberCriminal_Campagin_Collections  2018   \n",
       "4           4  APT_CyberCriminal_Campagin_Collections  2018   \n",
       "\n",
       "                                            filename group_name  \n",
       "0  hidden-cobra-targets-turkish-financial-sector-...         []  \n",
       "1  hidden-cobra-targets-turkish-financial-sector-...         []  \n",
       "2  hidden-cobra-targets-turkish-financial-sector-...         []  \n",
       "3  hidden-cobra-targets-turkish-financial-sector-...         []  \n",
       "4  hidden-cobra-targets-turkish-financial-sector-...         []  "
      ]
     },
     "execution_count": 626,
     "metadata": {},
     "output_type": "execute_result"
    }
   ],
   "source": [
    "original_tstr_df = pd.read_csv(EVAL_RESULTS_CSV)[['Unnamed: 0', 'git_repo', 'year', 'filename', 'group_name']]\n",
    "\n",
    "print(tstr_df.shape)\n",
    "tstr_df.head()"
   ]
  },
  {
   "cell_type": "code",
   "execution_count": 627,
   "metadata": {},
   "outputs": [
    {
     "name": "stdout",
     "output_type": "stream",
     "text": [
      "(3386, 5)\n"
     ]
    },
    {
     "data": {
      "text/html": [
       "<div>\n",
       "<style scoped>\n",
       "    .dataframe tbody tr th:only-of-type {\n",
       "        vertical-align: middle;\n",
       "    }\n",
       "\n",
       "    .dataframe tbody tr th {\n",
       "        vertical-align: top;\n",
       "    }\n",
       "\n",
       "    .dataframe thead th {\n",
       "        text-align: right;\n",
       "    }\n",
       "</style>\n",
       "<table border=\"1\" class=\"dataframe\">\n",
       "  <thead>\n",
       "    <tr style=\"text-align: right;\">\n",
       "      <th></th>\n",
       "      <th>Unnamed: 0</th>\n",
       "      <th>git_repo</th>\n",
       "      <th>year</th>\n",
       "      <th>filename</th>\n",
       "      <th>group_name</th>\n",
       "    </tr>\n",
       "  </thead>\n",
       "  <tbody>\n",
       "    <tr>\n",
       "      <th>0</th>\n",
       "      <td>0</td>\n",
       "      <td>APT_CyberCriminal_Campagin_Collections</td>\n",
       "      <td>2018</td>\n",
       "      <td>hidden-cobra-targets-turkish-financial-sector-...</td>\n",
       "      <td>[Hidden Cobra]</td>\n",
       "    </tr>\n",
       "    <tr>\n",
       "      <th>1</th>\n",
       "      <td>1</td>\n",
       "      <td>APT_CyberCriminal_Campagin_Collections</td>\n",
       "      <td>2018</td>\n",
       "      <td>hidden-cobra-targets-turkish-financial-sector-...</td>\n",
       "      <td>[Hidden Cobra]</td>\n",
       "    </tr>\n",
       "    <tr>\n",
       "      <th>2</th>\n",
       "      <td>2</td>\n",
       "      <td>APT_CyberCriminal_Campagin_Collections</td>\n",
       "      <td>2018</td>\n",
       "      <td>hidden-cobra-targets-turkish-financial-sector-...</td>\n",
       "      <td>[Hidden Cobra]</td>\n",
       "    </tr>\n",
       "    <tr>\n",
       "      <th>3</th>\n",
       "      <td>3</td>\n",
       "      <td>APT_CyberCriminal_Campagin_Collections</td>\n",
       "      <td>2018</td>\n",
       "      <td>hidden-cobra-targets-turkish-financial-sector-...</td>\n",
       "      <td>[Hidden Cobra]</td>\n",
       "    </tr>\n",
       "    <tr>\n",
       "      <th>4</th>\n",
       "      <td>4</td>\n",
       "      <td>APT_CyberCriminal_Campagin_Collections</td>\n",
       "      <td>2018</td>\n",
       "      <td>hidden-cobra-targets-turkish-financial-sector-...</td>\n",
       "      <td>[Hidden Cobra]</td>\n",
       "    </tr>\n",
       "  </tbody>\n",
       "</table>\n",
       "</div>"
      ],
      "text/plain": [
       "   Unnamed: 0                                git_repo  year  \\\n",
       "0           0  APT_CyberCriminal_Campagin_Collections  2018   \n",
       "1           1  APT_CyberCriminal_Campagin_Collections  2018   \n",
       "2           2  APT_CyberCriminal_Campagin_Collections  2018   \n",
       "3           3  APT_CyberCriminal_Campagin_Collections  2018   \n",
       "4           4  APT_CyberCriminal_Campagin_Collections  2018   \n",
       "\n",
       "                                            filename      group_name  \n",
       "0  hidden-cobra-targets-turkish-financial-sector-...  [Hidden Cobra]  \n",
       "1  hidden-cobra-targets-turkish-financial-sector-...  [Hidden Cobra]  \n",
       "2  hidden-cobra-targets-turkish-financial-sector-...  [Hidden Cobra]  \n",
       "3  hidden-cobra-targets-turkish-financial-sector-...  [Hidden Cobra]  \n",
       "4  hidden-cobra-targets-turkish-financial-sector-...  [Hidden Cobra]  "
      ]
     },
     "execution_count": 627,
     "metadata": {},
     "output_type": "execute_result"
    }
   ],
   "source": [
    "original_tstgt_df = pd.read_csv(EVAL_GT_CSV)[['Unnamed: 0', 'git_repo', 'year', 'filename', 'group_name']]\n",
    "print(tstgt_df.shape)\n",
    "tstgt_df.head()"
   ]
  },
  {
   "cell_type": "code",
   "execution_count": 628,
   "metadata": {},
   "outputs": [],
   "source": [
    "tstgt_df[\"group_name\"] = original_tstgt_df[\"group_name\"].apply(eval)\n",
    "tstr_df[\"group_name\"] = original_tstr_df[\"group_name\"].apply(eval)"
   ]
  },
  {
   "cell_type": "code",
   "execution_count": 629,
   "metadata": {},
   "outputs": [
    {
     "name": "stdout",
     "output_type": "stream",
     "text": [
      "num of group_names:  116\n"
     ]
    }
   ],
   "source": [
    "series_of_list = list(tstgt_df[\"group_name\"])\n",
    "one_list = [x for _list in series_of_list for x in _list]\n",
    "all_group_names = set(one_list)\n",
    "print(\"num of group_names: \", len(all_group_names))"
   ]
  },
  {
   "cell_type": "code",
   "execution_count": 630,
   "metadata": {},
   "outputs": [
    {
     "name": "stdout",
     "output_type": "stream",
     "text": [
      "num of new_names:  22\n"
     ]
    }
   ],
   "source": [
    "series_of_list_r = list(tstr_df[\"group_name\"])\n",
    "one_list_r = [x for _list in series_of_list_r for x in _list]\n",
    "all_group_names_r = set(one_list_r)\n",
    "new_names = all_group_names_r-all_group_names\n",
    "print(\"num of new_names: \", len(new_names))"
   ]
  },
  {
   "cell_type": "code",
   "execution_count": 634,
   "metadata": {
    "scrolled": true
   },
   "outputs": [
    {
     "name": "stdout",
     "output_type": "stream",
     "text": [
      "Total lines 3386\n",
      "lines with group_name: 3386\n"
     ]
    }
   ],
   "source": [
    "labels = [\"group_name\"]\n",
    "print(f\"Total lines {len(original_tstr_df)}\")\n",
    "for label in labels:\n",
    "    print(f\"lines with {label}: {len(original_tstr_df[original_tstr_df[label] != str([])])}\")"
   ]
  },
  {
   "cell_type": "code",
   "execution_count": 635,
   "metadata": {},
   "outputs": [],
   "source": [
    "def check_if_label_exists(label, line):\n",
    "    if label in line:\n",
    "        return True\n",
    "    return False"
   ]
  },
  {
   "cell_type": "code",
   "execution_count": 636,
   "metadata": {},
   "outputs": [],
   "source": [
    "def create_stats_df(gt_df, results_df,original_gt_df,original_r_df, labels):\n",
    "    verbose_gt_df = gt_df.copy()\n",
    "    verbose_r_df = results_df.copy()\n",
    "    \n",
    "    value_counter = dict()\n",
    "    verbose_lines = dict()\n",
    "\n",
    "    for group in labels:\n",
    "        verbose_gt_df[group] = original_tstgt_df.group_name.str.contains(group)\n",
    "        verbose_r_df[group] = original_tstr_df.group_name.str.contains(group)\n",
    "\n",
    "    for label_value in labels:\n",
    "        t = (verbose_gt_df[label_value]==True)\n",
    "        tp = (verbose_r_df[label_value]==True) & (verbose_gt_df[label_value]==True)\n",
    "        fp = (verbose_r_df[label_value]==True) & (verbose_gt_df[label_value]==False)\n",
    "        fn = (verbose_r_df[label_value]==False) & (verbose_gt_df[label_value]==True)\n",
    "        tp=tp[tp==True]\n",
    "        t=t[t==True]\n",
    "        fp=fp[fp==True]\n",
    "        fn=fn[fn==True]\n",
    "        counts_ = [len(t),len(tp), len(fp), len(fn)]\n",
    "        value_counter[label_value] = counts_\n",
    "        verbose_lines[label_value] = {'tp': set(tp.index), 'tn': set(tn.index),'fp': set(fp.index),'fn': set(fn.index)}\n",
    "\n",
    "    value_counter_df = pd.DataFrame.from_dict(value_counter).transpose()\n",
    "    value_counter_df.columns =['t', 'tp', 'fp','fn']\n",
    "    return value_counter_df, verbose_lines"
   ]
  },
  {
   "cell_type": "code",
   "execution_count": 637,
   "metadata": {},
   "outputs": [],
   "source": [
    "value_counter_df,  verbose_lines= create_stats_df(tstgt_df, tstr_df,original_tstgt_df,original_tstr_df, all_group_names)"
   ]
  },
  {
   "cell_type": "code",
   "execution_count": 638,
   "metadata": {},
   "outputs": [
    {
     "data": {
      "text/html": [
       "<div>\n",
       "<style scoped>\n",
       "    .dataframe tbody tr th:only-of-type {\n",
       "        vertical-align: middle;\n",
       "    }\n",
       "\n",
       "    .dataframe tbody tr th {\n",
       "        vertical-align: top;\n",
       "    }\n",
       "\n",
       "    .dataframe thead th {\n",
       "        text-align: right;\n",
       "    }\n",
       "</style>\n",
       "<table border=\"1\" class=\"dataframe\">\n",
       "  <thead>\n",
       "    <tr style=\"text-align: right;\">\n",
       "      <th></th>\n",
       "      <th>t</th>\n",
       "      <th>tp</th>\n",
       "      <th>fp</th>\n",
       "      <th>fn</th>\n",
       "    </tr>\n",
       "  </thead>\n",
       "  <tbody>\n",
       "    <tr>\n",
       "      <th>OCEANLOTUS GROUP</th>\n",
       "      <td>1</td>\n",
       "      <td>0</td>\n",
       "      <td>0</td>\n",
       "      <td>1</td>\n",
       "    </tr>\n",
       "    <tr>\n",
       "      <th>dynamite panda</th>\n",
       "      <td>1</td>\n",
       "      <td>0</td>\n",
       "      <td>0</td>\n",
       "      <td>1</td>\n",
       "    </tr>\n",
       "    <tr>\n",
       "      <th>ke3chang</th>\n",
       "      <td>1</td>\n",
       "      <td>0</td>\n",
       "      <td>0</td>\n",
       "      <td>1</td>\n",
       "    </tr>\n",
       "    <tr>\n",
       "      <th>APT30</th>\n",
       "      <td>208</td>\n",
       "      <td>208</td>\n",
       "      <td>0</td>\n",
       "      <td>0</td>\n",
       "    </tr>\n",
       "    <tr>\n",
       "      <th>Suckfly</th>\n",
       "      <td>22</td>\n",
       "      <td>22</td>\n",
       "      <td>0</td>\n",
       "      <td>0</td>\n",
       "    </tr>\n",
       "    <tr>\n",
       "      <th>...</th>\n",
       "      <td>...</td>\n",
       "      <td>...</td>\n",
       "      <td>...</td>\n",
       "      <td>...</td>\n",
       "    </tr>\n",
       "    <tr>\n",
       "      <th>turla</th>\n",
       "      <td>8</td>\n",
       "      <td>0</td>\n",
       "      <td>0</td>\n",
       "      <td>8</td>\n",
       "    </tr>\n",
       "    <tr>\n",
       "      <th>Lazarus Group</th>\n",
       "      <td>379</td>\n",
       "      <td>379</td>\n",
       "      <td>0</td>\n",
       "      <td>0</td>\n",
       "    </tr>\n",
       "    <tr>\n",
       "      <th>APT18</th>\n",
       "      <td>23</td>\n",
       "      <td>23</td>\n",
       "      <td>0</td>\n",
       "      <td>0</td>\n",
       "    </tr>\n",
       "    <tr>\n",
       "      <th>LAZARUS GROUP</th>\n",
       "      <td>4</td>\n",
       "      <td>0</td>\n",
       "      <td>0</td>\n",
       "      <td>4</td>\n",
       "    </tr>\n",
       "    <tr>\n",
       "      <th>taidoor</th>\n",
       "      <td>1</td>\n",
       "      <td>0</td>\n",
       "      <td>0</td>\n",
       "      <td>1</td>\n",
       "    </tr>\n",
       "  </tbody>\n",
       "</table>\n",
       "<p>116 rows × 4 columns</p>\n",
       "</div>"
      ],
      "text/plain": [
       "                    t   tp  fp  fn\n",
       "OCEANLOTUS GROUP    1    0   0   1\n",
       "dynamite panda      1    0   0   1\n",
       "ke3chang            1    0   0   1\n",
       "APT30             208  208   0   0\n",
       "Suckfly            22   22   0   0\n",
       "...               ...  ...  ..  ..\n",
       "turla               8    0   0   8\n",
       "Lazarus Group     379  379   0   0\n",
       "APT18              23   23   0   0\n",
       "LAZARUS GROUP       4    0   0   4\n",
       "taidoor             1    0   0   1\n",
       "\n",
       "[116 rows x 4 columns]"
      ]
     },
     "execution_count": 638,
     "metadata": {},
     "output_type": "execute_result"
    }
   ],
   "source": [
    "value_counter_df"
   ]
  },
  {
   "cell_type": "code",
   "execution_count": 639,
   "metadata": {},
   "outputs": [],
   "source": [
    "value_counter_df_new,  verbose_lines_new= create_stats_df(tstgt_df, tstr_df,original_tstgt_df,original_tstr_df, new_names)"
   ]
  },
  {
   "cell_type": "code",
   "execution_count": 640,
   "metadata": {},
   "outputs": [
    {
     "data": {
      "text/html": [
       "<div>\n",
       "<style scoped>\n",
       "    .dataframe tbody tr th:only-of-type {\n",
       "        vertical-align: middle;\n",
       "    }\n",
       "\n",
       "    .dataframe tbody tr th {\n",
       "        vertical-align: top;\n",
       "    }\n",
       "\n",
       "    .dataframe thead th {\n",
       "        text-align: right;\n",
       "    }\n",
       "</style>\n",
       "<table border=\"1\" class=\"dataframe\">\n",
       "  <thead>\n",
       "    <tr style=\"text-align: right;\">\n",
       "      <th></th>\n",
       "      <th>t</th>\n",
       "      <th>tp</th>\n",
       "      <th>fp</th>\n",
       "      <th>fn</th>\n",
       "    </tr>\n",
       "  </thead>\n",
       "  <tbody>\n",
       "    <tr>\n",
       "      <th>ESPIONAGE TARGETED</th>\n",
       "      <td>0</td>\n",
       "      <td>0</td>\n",
       "      <td>1</td>\n",
       "      <td>0</td>\n",
       "    </tr>\n",
       "    <tr>\n",
       "      <th>House</th>\n",
       "      <td>0</td>\n",
       "      <td>0</td>\n",
       "      <td>1</td>\n",
       "      <td>0</td>\n",
       "    </tr>\n",
       "    <tr>\n",
       "      <th>Birds</th>\n",
       "      <td>0</td>\n",
       "      <td>0</td>\n",
       "      <td>1</td>\n",
       "      <td>0</td>\n",
       "    </tr>\n",
       "    <tr>\n",
       "      <th>Contrary</th>\n",
       "      <td>0</td>\n",
       "      <td>0</td>\n",
       "      <td>1</td>\n",
       "      <td>0</td>\n",
       "    </tr>\n",
       "    <tr>\n",
       "      <th>Romance</th>\n",
       "      <td>0</td>\n",
       "      <td>0</td>\n",
       "      <td>1</td>\n",
       "      <td>0</td>\n",
       "    </tr>\n",
       "    <tr>\n",
       "      <th></th>\n",
       "      <td>0</td>\n",
       "      <td>0</td>\n",
       "      <td>0</td>\n",
       "      <td>0</td>\n",
       "    </tr>\n",
       "    <tr>\n",
       "      <th>NAME</th>\n",
       "      <td>0</td>\n",
       "      <td>0</td>\n",
       "      <td>1</td>\n",
       "      <td>0</td>\n",
       "    </tr>\n",
       "    <tr>\n",
       "      <th>Shell</th>\n",
       "      <td>0</td>\n",
       "      <td>0</td>\n",
       "      <td>1</td>\n",
       "      <td>0</td>\n",
       "    </tr>\n",
       "    <tr>\n",
       "      <th>............................................................................................................................................... 72</th>\n",
       "      <td>0</td>\n",
       "      <td>0</td>\n",
       "      <td>1</td>\n",
       "      <td>0</td>\n",
       "    </tr>\n",
       "    <tr>\n",
       "      <th>APT38</th>\n",
       "      <td>0</td>\n",
       "      <td>0</td>\n",
       "      <td>1</td>\n",
       "      <td>0</td>\n",
       "    </tr>\n",
       "    <tr>\n",
       "      <th>DarkHotel group</th>\n",
       "      <td>0</td>\n",
       "      <td>0</td>\n",
       "      <td>1</td>\n",
       "      <td>0</td>\n",
       "    </tr>\n",
       "    <tr>\n",
       "      <th>TG-3279</th>\n",
       "      <td>0</td>\n",
       "      <td>0</td>\n",
       "      <td>1</td>\n",
       "      <td>0</td>\n",
       "    </tr>\n",
       "    <tr>\n",
       "      <th>ZJ</th>\n",
       "      <td>0</td>\n",
       "      <td>0</td>\n",
       "      <td>1</td>\n",
       "      <td>0</td>\n",
       "    </tr>\n",
       "    <tr>\n",
       "      <th>BACKSPACE</th>\n",
       "      <td>0</td>\n",
       "      <td>0</td>\n",
       "      <td>7</td>\n",
       "      <td>0</td>\n",
       "    </tr>\n",
       "    <tr>\n",
       "      <th>COMPONENT</th>\n",
       "      <td>0</td>\n",
       "      <td>0</td>\n",
       "      <td>1</td>\n",
       "      <td>0</td>\n",
       "    </tr>\n",
       "    <tr>\n",
       "      <th>RemoveResources</th>\n",
       "      <td>0</td>\n",
       "      <td>0</td>\n",
       "      <td>1</td>\n",
       "      <td>0</td>\n",
       "    </tr>\n",
       "    <tr>\n",
       "      <th>Propaganda</th>\n",
       "      <td>0</td>\n",
       "      <td>0</td>\n",
       "      <td>1</td>\n",
       "      <td>0</td>\n",
       "    </tr>\n",
       "    <tr>\n",
       "      <th>RIPTIDE</th>\n",
       "      <td>0</td>\n",
       "      <td>0</td>\n",
       "      <td>3</td>\n",
       "      <td>0</td>\n",
       "    </tr>\n",
       "    <tr>\n",
       "      <th>the Storm</th>\n",
       "      <td>0</td>\n",
       "      <td>0</td>\n",
       "      <td>1</td>\n",
       "      <td>0</td>\n",
       "    </tr>\n",
       "    <tr>\n",
       "      <th>collective</th>\n",
       "      <td>0</td>\n",
       "      <td>0</td>\n",
       "      <td>0</td>\n",
       "      <td>0</td>\n",
       "    </tr>\n",
       "    <tr>\n",
       "      <th>Overlapping</th>\n",
       "      <td>0</td>\n",
       "      <td>0</td>\n",
       "      <td>1</td>\n",
       "      <td>0</td>\n",
       "    </tr>\n",
       "    <tr>\n",
       "      <th>The Bear</th>\n",
       "      <td>0</td>\n",
       "      <td>0</td>\n",
       "      <td>1</td>\n",
       "      <td>0</td>\n",
       "    </tr>\n",
       "  </tbody>\n",
       "</table>\n",
       "</div>"
      ],
      "text/plain": [
       "                                                    t  tp  fp  fn\n",
       "ESPIONAGE TARGETED                                  0   0   1   0\n",
       "House                                               0   0   1   0\n",
       "Birds                                               0   0   1   0\n",
       "Contrary                                            0   0   1   0\n",
       "Romance                                             0   0   1   0\n",
       "                                                   0   0   0   0\n",
       "NAME                                                0   0   1   0\n",
       "Shell                                               0   0   1   0\n",
       "..................................................  0   0   1   0\n",
       "APT38                                               0   0   1   0\n",
       "DarkHotel group                                     0   0   1   0\n",
       "TG-3279                                             0   0   1   0\n",
       "ZJ                                                  0   0   1   0\n",
       "BACKSPACE                                           0   0   7   0\n",
       "COMPONENT                                           0   0   1   0\n",
       "RemoveResources                                     0   0   1   0\n",
       "Propaganda                                          0   0   1   0\n",
       "RIPTIDE                                             0   0   3   0\n",
       "the Storm                                           0   0   1   0\n",
       "collective                                         0   0   0   0\n",
       "Overlapping                                         0   0   1   0\n",
       "The Bear                                            0   0   1   0"
      ]
     },
     "execution_count": 640,
     "metadata": {},
     "output_type": "execute_result"
    }
   ],
   "source": [
    "value_counter_df_new"
   ]
  },
  {
   "cell_type": "code",
   "execution_count": 641,
   "metadata": {
    "pycharm": {
     "name": "#%%\n"
    }
   },
   "outputs": [
    {
     "name": "stdout",
     "output_type": "stream",
     "text": [
      "ESPIONAGE TARGETED {951}\n",
      "House {1841}\n",
      "Birds {8}\n",
      "Contrary {378}\n",
      "Romance {284}\n",
      " set()\n",
      "NAME {1471}\n",
      "Shell {43}\n",
      "............................................................................................................................................... 72 {3058}\n",
      "APT38 {3352}\n",
      "DarkHotel group {774}\n",
      "TG-3279 {1274}\n",
      "ZJ {2096}\n",
      "BACKSPACE {2051, 2052, 2467, 2060, 2064, 2096, 2449}\n",
      "COMPONENT {1438}\n",
      "RemoveResources {1132}\n",
      "Propaganda {586}\n",
      "RIPTIDE {2915, 1205, 1199}\n",
      "the Storm {1074}\n",
      "collective set()\n",
      "Overlapping {742}\n",
      "The Bear {1071}\n"
     ]
    }
   ],
   "source": [
    "for word, dict_ in verbose_lines_new.items():\n",
    "    for key, val in dict_.items():\n",
    "        if key == 'fp':\n",
    "            print(word, val)"
   ]
  },
  {
   "cell_type": "code",
   "execution_count": null,
   "outputs": [],
   "source": [
    "tstgt_df.columns"
   ],
   "metadata": {
    "collapsed": false,
    "pycharm": {
     "name": "#%%\n"
    }
   }
  },
  {
   "cell_type": "code",
   "execution_count": null,
   "outputs": [],
   "source": [
    "verbose_gt_df = tstgt_df.copy().drop( ['Unnamed: 0','git_repo', 'year', 'filename','group_name'],axis='columns')\n",
    "verbose_r_df = tstr_df.copy().drop(['Unnamed: 0','git_repo', 'year', 'filename','group_name'],axis='columns')\n",
    "for group in all_group_names:\n",
    "    verbose_gt_df[group] = original_tstgt_df.group_name.str.contains(group)\n",
    "    verbose_r_df[group] = original_tstr_df.group_name.str.contains(group)\n"
   ],
   "metadata": {
    "collapsed": false,
    "pycharm": {
     "name": "#%%\n"
    }
   }
  },
  {
   "cell_type": "code",
   "execution_count": null,
   "outputs": [],
   "source": [
    "def calc_general_stats(gt_df,r_df,original_gt_df,original_r_df,labels):\n",
    "    verbose_gt_df = gt_df.copy().drop( ['Unnamed: 0','git_repo', 'year', 'filename','group_name'],axis='columns')\n",
    "    verbose_r_df = r_df.copy().drop(['Unnamed: 0','git_repo', 'year', 'filename','group_name'],axis='columns')\n",
    "    for group in labels:\n",
    "        verbose_gt_df[group] = original_gt_df.group_name.str.contains(group)\n",
    "        verbose_r_df[group] = original_r_df.group_name.str.contains(group)\n",
    "    general_true = (verbose_gt_df==True).sum().sum()\n",
    "    general_false = (verbose_gt_df==False).sum().sum()\n",
    "    general_positive = (verbose_r_df==True).sum().sum()\n",
    "    print(\"true: \", general_true)\n",
    "    print(\"false: \", general_false)\n",
    "    print(\"positive: \", general_positive)\n",
    "    general_tp = (verbose_r_df==True) & (verbose_gt_df==True)\n",
    "    general_tp=general_tp.sum(axis=1).sum()\n",
    "    general_tn =  (verbose_r_df.sum(axis=1)==0) & (verbose_gt_df.sum(axis=1)==0)\n",
    "    general_tn = general_tn.sum()\n",
    "    general_fn =   (verbose_r_df==False) & (verbose_gt_df==True)\n",
    "    general_fn=general_fn.sum(axis=1).sum()\n",
    "    general_fp =   (verbose_r_df==True) & (verbose_gt_df==False)\n",
    "    general_fp=general_fp.sum().sum()\n",
    "    f1_score = general_tp/(general_tp+0.5*(general_fp+general_fn)+0.000000001)\n",
    "    recall = general_tp/(general_true+0.000000001)\n",
    "    precision = general_tp/general_positive\n",
    "    stats = {\"tp\": general_tp, \"tn\": general_tn, \"fn\": general_fn, \"fp\": general_fp,'recall': recall,\n",
    "             'precision': precision, 'f1_score':f1_score}\n",
    "    return stats"
   ],
   "metadata": {
    "collapsed": false,
    "pycharm": {
     "name": "#%%\n"
    }
   }
  },
  {
   "cell_type": "code",
   "execution_count": null,
   "outputs": [],
   "source": [
    " calc_general_stats(tstgt_df, tstr_df,original_tstgt_df,original_tstr_df,all_group_names)"
   ],
   "metadata": {
    "collapsed": false,
    "pycharm": {
     "name": "#%%\n"
    }
   }
  },
  {
   "cell_type": "code",
   "execution_count": null,
   "outputs": [],
   "source": [
    " calc_general_stats(tstgt_df, tstr_df,original_tstgt_df,original_tstr_df,new_names)"
   ],
   "metadata": {
    "collapsed": false,
    "pycharm": {
     "name": "#%%\n"
    }
   }
  },
  {
   "cell_type": "code",
   "execution_count": null,
   "outputs": [],
   "source": [
    " calc_general_stats(tstgt_df, tstr_df,original_tstgt_df,original_tstr_df,new_names)"
   ],
   "metadata": {
    "collapsed": false,
    "pycharm": {
     "name": "#%%\n"
    }
   }
  },
  {
   "cell_type": "code",
   "execution_count": 642,
   "metadata": {
    "pycharm": {
     "name": "#%%\n"
    }
   },
   "outputs": [
    {
     "data": {
      "text/plain": [
       "Index(['Unnamed: 0', 'git_repo', 'year', 'filename', 'group_name'], dtype='object')"
      ]
     },
     "execution_count": 642,
     "metadata": {},
     "output_type": "execute_result"
    }
   ],
   "source": [
    "tstgt_df.columns"
   ]
  },
  {
   "cell_type": "code",
   "execution_count": 643,
   "metadata": {
    "pycharm": {
     "name": "#%%\n"
    }
   },
   "outputs": [],
   "source": [
    "verbose_gt_df = tstgt_df.copy().drop( ['Unnamed: 0','git_repo', 'year', 'filename','group_name'],axis='columns')\n",
    "verbose_r_df = tstr_df.copy().drop(['Unnamed: 0','git_repo', 'year', 'filename','group_name'],axis='columns')\n",
    "for group in all_group_names:\n",
    "    verbose_gt_df[group] = original_tstgt_df.group_name.str.contains(group)\n",
    "    verbose_r_df[group] = original_tstr_df.group_name.str.contains(group)\n"
   ]
  },
  {
   "cell_type": "code",
   "execution_count": 644,
   "metadata": {
    "pycharm": {
     "name": "#%%\n"
    }
   },
   "outputs": [],
   "source": [
    "def calc_general_stats(gt_df,r_df,original_gt_df,original_r_df,labels):\n",
    "    verbose_gt_df = gt_df.copy().drop( ['Unnamed: 0','git_repo', 'year', 'filename','group_name'],axis='columns')\n",
    "    verbose_r_df = r_df.copy().drop(['Unnamed: 0','git_repo', 'year', 'filename','group_name'],axis='columns')\n",
    "    for group in labels:\n",
    "        verbose_gt_df[group] = original_gt_df.group_name.str.contains(group)\n",
    "        verbose_r_df[group] = original_r_df.group_name.str.contains(group)\n",
    "    general_true = (verbose_gt_df==True).sum().sum()\n",
    "    general_false = (verbose_gt_df==False).sum().sum()\n",
    "    general_positive = (verbose_r_df==True).sum().sum()\n",
    "    print(\"true: \", general_true)\n",
    "    print(\"false: \", general_false)\n",
    "    print(\"positive: \", general_positive)\n",
    "    general_tp = (verbose_r_df==True) & (verbose_gt_df==True)\n",
    "    general_tp=general_tp.sum(axis=1).sum()\n",
    "    general_tn =  (verbose_r_df.sum(axis=1)==0) & (verbose_gt_df.sum(axis=1)==0)\n",
    "    general_tn = general_tn.sum()\n",
    "    general_fn =   (verbose_r_df==False) & (verbose_gt_df==True)\n",
    "    general_fn=general_fn.sum(axis=1).sum()\n",
    "    general_fp =   (verbose_r_df==True) & (verbose_gt_df==False)\n",
    "    general_fp=general_fp.sum().sum()\n",
    "    f1_score = general_tp/(general_tp+0.5*(general_fp+general_fn)+0.000000001)\n",
    "    recall = general_tp/(general_true+0.000000001)\n",
    "    precision = general_tp/general_positive\n",
    "    stats = {\"tp\": general_tp, \"tn\": general_tn, \"fn\": general_fn, \"fp\": general_fp,'recall': recall,\n",
    "             'precision': precision, 'f1_score':f1_score}\n",
    "    return stats"
   ]
  },
  {
   "cell_type": "code",
   "execution_count": 645,
   "metadata": {
    "pycharm": {
     "name": "#%%\n"
    }
   },
   "outputs": [
    {
     "name": "stdout",
     "output_type": "stream",
     "text": [
      "true:  3448\n",
      "false:  389328\n",
      "positive:  2868\n"
     ]
    },
    {
     "data": {
      "text/plain": [
       "{'tp': 2868,\n",
       " 'tn': 0,\n",
       " 'fn': 580,\n",
       " 'fp': 0,\n",
       " 'recall': 0.8317865429231927,\n",
       " 'precision': 1.0,\n",
       " 'f1_score': 0.9081697276754566}"
      ]
     },
     "execution_count": 645,
     "metadata": {},
     "output_type": "execute_result"
    }
   ],
   "source": [
    " calc_general_stats(tstgt_df, tstr_df,original_tstgt_df,original_tstr_df,all_group_names)"
   ]
  },
  {
   "cell_type": "code",
   "execution_count": 646,
   "metadata": {
    "pycharm": {
     "name": "#%%\n"
    }
   },
   "outputs": [
    {
     "name": "stdout",
     "output_type": "stream",
     "text": [
      "true:  0\n",
      "false:  74492\n",
      "positive:  28\n"
     ]
    },
    {
     "data": {
      "text/plain": [
       "{'tp': 0,\n",
       " 'tn': 3359,\n",
       " 'fn': 0,\n",
       " 'fp': 28,\n",
       " 'recall': 0.0,\n",
       " 'precision': 0.0,\n",
       " 'f1_score': 0.0}"
      ]
     },
     "execution_count": 646,
     "metadata": {},
     "output_type": "execute_result"
    }
   ],
   "source": [
    " calc_general_stats(tstgt_df, tstr_df,original_tstgt_df,original_tstr_df,new_names)"
   ]
  },
  {
   "cell_type": "code",
   "execution_count": 647,
   "metadata": {},
   "outputs": [
    {
     "name": "stdout",
     "output_type": "stream",
     "text": [
      "true:  0\n",
      "false:  74492\n",
      "positive:  28\n"
     ]
    },
    {
     "data": {
      "text/plain": [
       "{'tp': 0,\n",
       " 'tn': 3359,\n",
       " 'fn': 0,\n",
       " 'fp': 28,\n",
       " 'recall': 0.0,\n",
       " 'precision': 0.0,\n",
       " 'f1_score': 0.0}"
      ]
     },
     "execution_count": 647,
     "metadata": {},
     "output_type": "execute_result"
    }
   ],
   "source": [
    " calc_general_stats(tstgt_df, tstr_df,original_tstgt_df,original_tstr_df,new_names)"
   ]
  },
  {
   "cell_type": "code",
   "execution_count": 473,
   "metadata": {},
   "outputs": [
    {
     "data": {
      "text/plain": [
       "Index(['Unnamed: 0', 'git_repo', 'year', 'filename', 'group_name'], dtype='object')"
      ]
     },
     "execution_count": 473,
     "metadata": {},
     "output_type": "execute_result"
    }
   ],
   "source": [
    "tstgt_df.columns"
   ]
  },
  {
   "cell_type": "code",
   "execution_count": 474,
   "metadata": {},
   "outputs": [],
   "source": [
    "verbose_gt_df = tstgt_df.copy().drop( ['Unnamed: 0','git_repo', 'year', 'filename','group_name'],axis='columns')\n",
    "verbose_r_df = tstr_df.copy().drop(['Unnamed: 0','git_repo', 'year', 'filename','group_name'],axis='columns')\n",
    "for group in all_group_names:\n",
    "    verbose_gt_df[group] = original_tstgt_df.group_name.str.contains(group)\n",
    "    verbose_r_df[group] = original_tstr_df.group_name.str.contains(group)\n"
   ]
  },
  {
   "cell_type": "code",
   "execution_count": 491,
   "metadata": {},
   "outputs": [],
   "source": [
    "def calc_general_stats(gt_df,r_df,original_gt_df,original_r_df,labels):\n",
    "    verbose_gt_df = gt_df.copy().drop( ['Unnamed: 0','git_repo', 'year', 'filename','group_name'],axis='columns')\n",
    "    verbose_r_df = r_df.copy().drop(['Unnamed: 0','git_repo', 'year', 'filename','group_name'],axis='columns')\n",
    "    for group in labels:\n",
    "        verbose_gt_df[group] = original_gt_df.group_name.str.contains(group)\n",
    "        verbose_r_df[group] = original_r_df.group_name.str.contains(group)\n",
    "    general_true = (verbose_gt_df==True).sum().sum()\n",
    "    general_false = (verbose_gt_df==False).sum().sum()\n",
    "    general_positive = (verbose_r_df==True).sum().sum()\n",
    "    print(\"true: \", general_true)\n",
    "    print(\"false: \", general_false)\n",
    "    print(\"positive: \", general_positive)\n",
    "    general_tp = (verbose_r_df==True) & (verbose_gt_df==True)\n",
    "    general_tp=general_tp.sum(axis=1).sum()\n",
    "    general_tn =  (verbose_r_df.sum(axis=1)==0) & (verbose_gt_df.sum(axis=1)==0)\n",
    "    general_tn = general_tn.sum()\n",
    "    general_fn =   (verbose_r_df==False) & (verbose_gt_df==True)\n",
    "    general_fn=general_fn.sum(axis=1).sum()\n",
    "    general_fp =   (verbose_r_df==True) & (verbose_gt_df==False)\n",
    "    general_fp=general_fp.sum().sum()\n",
    "    f1_score = general_tp/(general_tp+0.5*(general_fp+general_fn)+0.000000001)\n",
    "    recall = general_tp/(general_true+0.000000001)\n",
    "    precision = general_tp/general_positive\n",
    "    stats = {\"tp\": general_tp, \"tn\": general_tn, \"fn\": general_fn, \"fp\": general_fp,'recall': recall,\n",
    "             'precision': precision, 'f1_score':f1_score}\n",
    "    return stats"
   ]
  },
  {
   "cell_type": "code",
   "execution_count": 492,
   "metadata": {},
   "outputs": [
    {
     "name": "stdout",
     "output_type": "stream",
     "text": [
      "true:  3448\n",
      "false:  389328\n",
      "positive:  2868\n"
     ]
    },
    {
     "data": {
      "text/plain": [
       "{'tp': 2868,\n",
       " 'tn': 0,\n",
       " 'fn': 580,\n",
       " 'fp': 0,\n",
       " 'recall': 0.8317865429231927,\n",
       " 'precision': 1.0,\n",
       " 'f1_score': 0.9081697276754566}"
      ]
     },
     "execution_count": 492,
     "metadata": {},
     "output_type": "execute_result"
    }
   ],
   "source": [
    " calc_general_stats(tstgt_df, tstr_df,original_tstgt_df,original_tstr_df,all_group_names)"
   ]
  },
  {
   "cell_type": "code",
   "execution_count": 493,
   "metadata": {},
   "outputs": [
    {
     "name": "stdout",
     "output_type": "stream",
     "text": [
      "true:  0\n",
      "false:  74492\n",
      "positive:  28\n"
     ]
    },
    {
     "data": {
      "text/plain": [
       "{'tp': 0,\n",
       " 'tn': 3359,\n",
       " 'fn': 0,\n",
       " 'fp': 28,\n",
       " 'recall': 0.0,\n",
       " 'precision': 0.0,\n",
       " 'f1_score': 0.0}"
      ]
     },
     "execution_count": 493,
     "metadata": {},
     "output_type": "execute_result"
    }
   ],
   "source": [
    " calc_general_stats(tstgt_df, tstr_df,original_tstgt_df,original_tstr_df,new_names)"
   ]
  }
 ],
 "metadata": {
  "kernelspec": {
   "display_name": "Python 3",
   "language": "python",
   "name": "python3"
  },
  "language_info": {
   "codemirror_mode": {
    "name": "ipython",
    "version": 3
   },
   "file_extension": ".py",
   "mimetype": "text/x-python",
   "name": "python",
   "nbconvert_exporter": "python",
   "pygments_lexer": "ipython3",
   "version": "3.7.5"
  },
  "pycharm": {
   "stem_cell": {
    "cell_type": "raw",
    "source": [],
    "metadata": {
     "collapsed": false
    }
   }
  }
 },
 "nbformat": 4,
 "nbformat_minor": 5
}